{
 "cells": [
  {
   "cell_type": "code",
   "execution_count": 1,
   "metadata": {},
   "outputs": [],
   "source": [
    "import nltk\n",
    "import re\n",
    "import numpy as np\n",
    "import string\n",
    "import pandas as pd\n",
    "import matplotlib.pyplot as plt\n",
    "\n",
    "from nltk.tokenize import word_tokenize, sent_tokenize\n",
    "from nltk.corpus import stopwords\n",
    "from nltk.stem import PorterStemmer # or LancasterStemmer, RegexpStemmer, SnowballStemmer\n",
    "\n",
    "from sklearn.model_selection import train_test_split\n",
    "from sklearn.feature_extraction.text import TfidfVectorizer\n",
    "from sklearn.feature_extraction.text import CountVectorizer\n",
    "from sklearn.naive_bayes import MultinomialNB"
   ]
  },
  {
   "cell_type": "code",
   "execution_count": 2,
   "metadata": {},
   "outputs": [],
   "source": [
    "default_stemmer = PorterStemmer()\n",
    "default_stopwords = stopwords.words('english') # or any other list of your chose"
   ]
  },
  {
   "cell_type": "code",
   "execution_count": 3,
   "metadata": {},
   "outputs": [],
   "source": [
    "def clean_text(text, ):\n",
    "    \n",
    "    latin_replacement = {'Ã\\x83Â¡':'a',\n",
    "                        'Ã\\x83Â©':'e',\n",
    "                        'Ã\\x83Â\\xad':'i',\n",
    "                        'Ã\\x83Â³':'o',    \n",
    "                        'Ã\\x83Âº':'u'}\n",
    "    \n",
    "    def tokenize_text(text):\n",
    "        return [w for s in sent_tokenize(text) for w in word_tokenize(s)]\n",
    "\n",
    "    def remove_special_characters(text, characters=string.punctuation.replace('-', '')):\n",
    "        tokens = tokenize_text(text)\n",
    "        pattern = re.compile('[{}]'.format(re.escape(characters)))\n",
    "        return ' '.join(filter(None, [pattern.sub('', t) for t in tokens if t.isalpha()]))\n",
    "\n",
    "    def stem_text(text, stemmer=default_stemmer):\n",
    "        tokens = tokenize_text(text)\n",
    "        return ' '.join([stemmer.stem(t) for t in tokens])\n",
    "   \n",
    "    def convert_latin(text):\n",
    "        pattern = re.compile('|'.join(latin_replacement.keys()))\n",
    "        result = pattern.sub(lambda x: latin_replacement[x.group()], text)\n",
    "        return result\n",
    "    \n",
    "    def remove_text_in_bracket(text):\n",
    "        return re.sub(\"[\\[].*?[\\]]\", \"\", text)\n",
    "\n",
    "    def remove_stopwords(text, stop_words=default_stopwords):\n",
    "        tokens = [w for w in tokenize_text(text) if w not in stop_words]\n",
    "        return ' '.join(tokens)\n",
    "\n",
    "    text = text.strip(' ') #strip whitespace\n",
    "    text = text.lower() #lowercase\n",
    "    text = remove_special_characters(text) #remove punctuation and symbols\n",
    "    text = stem_text(text) #stemming\n",
    "    text = remove_text_in_bracket(text) #remove text within brackets\n",
    "    text = remove_stopwords(text) #remove stopwords\n",
    "\n",
    "    return text"
   ]
  },
  {
   "cell_type": "code",
   "execution_count": 4,
   "metadata": {},
   "outputs": [],
   "source": [
    "# Import lyrics csv\n",
    "df = pd.read_csv('lyrics.csv', engine='python', index_col=['index'])"
   ]
  },
  {
   "cell_type": "code",
   "execution_count": 5,
   "metadata": {},
   "outputs": [],
   "source": [
    "# Drop rows containing NAs, and reset index\n",
    "df.dropna(inplace=True)\n",
    "df.reset_index(inplace = True, drop= True)"
   ]
  },
  {
   "cell_type": "code",
   "execution_count": 6,
   "metadata": {},
   "outputs": [],
   "source": [
    "# Get only top 10000 rows and clean them\n",
    "clean_lyrics = df.loc[:10000,'lyrics'].map(clean_text)"
   ]
  },
  {
   "cell_type": "code",
   "execution_count": null,
   "metadata": {},
   "outputs": [],
   "source": [
    "clean_lyrics.to_csv('clean_lyrics.csv', index = False)"
   ]
  },
  {
   "cell_type": "markdown",
   "metadata": {},
   "source": [
    "1. Countvectorizer\n",
    "2. sort by frequency high->low\n",
    "3. plot log rank vs log freq\n",
    "4. get head words and tail words\n",
    "5. re-run data cleaning process - remove head and tail\n",
    "6. Feature selection - entropy, "
   ]
  },
  {
   "cell_type": "code",
   "execution_count": 7,
   "metadata": {},
   "outputs": [],
   "source": [
    "# Count vectorizer to get word counts for all words in vocabulary\n",
    "cv = CountVectorizer()\n",
    "cv_fit=cv.fit_transform(clean_lyrics)"
   ]
  },
  {
   "cell_type": "code",
   "execution_count": 8,
   "metadata": {},
   "outputs": [],
   "source": [
    "# Get Vocabulary\n",
    "tf_matrix_word = cv.get_feature_names()\n",
    "\n",
    "# Get word frequency for each word in vocabulary\n",
    "tf_matrix = cv_fit.toarray()\n",
    "tf_matrix_freq = tf_matrix.sum(axis = 0)"
   ]
  },
  {
   "cell_type": "code",
   "execution_count": 9,
   "metadata": {},
   "outputs": [],
   "source": [
    "# Create term frequency dataframe which contains list of words and their frequency in the document\n",
    "tf_df = pd.DataFrame({'word':tf_matrix_word, 'freq':tf_matrix_freq})"
   ]
  },
  {
   "cell_type": "code",
   "execution_count": 10,
   "metadata": {},
   "outputs": [],
   "source": [
    "# Sort the words in tf_df by word frequency in descending order\n",
    "tf_df.sort_values(by='freq',ascending=False, inplace=True)\n",
    "\n",
    "# The index column will be used will be used to remove head and tail words\n",
    "tf_df.reset_index(inplace=True)\n",
    "\n",
    "# The level_0 column will be used to assign rank to the word frequency, words with highest frequency\n",
    "# get top rank\n",
    "tf_df.reset_index(inplace=True)\n",
    "tf_df.rename(columns={'level_0':'rank'}, inplace = True)"
   ]
  },
  {
   "cell_type": "code",
   "execution_count": 11,
   "metadata": {},
   "outputs": [],
   "source": [
    "tf_df['log_rank'] = np.log(tf_df['rank']+1)\n",
    "tf_df['log_freq'] = np.log(tf_df['freq']+1)"
   ]
  },
  {
   "cell_type": "code",
   "execution_count": 13,
   "metadata": {},
   "outputs": [
    {
     "data": {
      "image/png": "[encoded data removed]",
      "text/plain": [
       "<matplotlib.figure.Figure at 0x1ef7b9046d8>"
      ]
     },
     "metadata": {},
     "output_type": "display_data"
    }
   ],
   "source": [
    "# Plot log rank vs log word frequency\n",
    "plt.scatter(x = tf_df['log_rank'], y = tf_df['log_freq'])\n",
    "plt.xlabel('log Word Frequency Rank')\n",
    "plt.ylabel('log Word Frequency')\n",
    "plt.show()"
   ]
  },
  {
   "cell_type": "code",
   "execution_count": 23,
   "metadata": {},
   "outputs": [],
   "source": [
    "# Get head words\n",
    "# Remove 20 words with highest frequency as head words\n",
    "head_word_count = 20\n",
    "head_words = list(tf_df['index'].head(head_word_count))\n",
    "\n",
    "# Get tail words\n",
    "# Remove 20 words with frequency less than 5 as tail words\n",
    "tail_word_freq = 5\n",
    "tail_words = list(tf_df.loc[tf_df['freq']<tail_word_freq,'index'])\n",
    "\n",
    "# Combine head and tail words\n",
    "head_words.extend(tail_words)"
   ]
  },
  {
   "cell_type": "code",
   "execution_count": 24,
   "metadata": {},
   "outputs": [
    {
     "name": "stderr",
     "output_type": "stream",
     "text": [
      "c:\\users\\rohan bapat\\appdata\\local\\continuum\\anaconda3\\lib\\site-packages\\sklearn\\feature_extraction\\text.py:1059: FutureWarning: Conversion of the second argument of issubdtype from `float` to `np.floating` is deprecated. In future, it will be treated as `np.float64 == np.dtype(float).type`.\n",
      "  if hasattr(X, 'dtype') and np.issubdtype(X.dtype, np.float):\n"
     ]
    }
   ],
   "source": [
    "# Create TF-IDF matrix\n",
    "tfidf_vectorizer = TfidfVectorizer(use_idf=True)\n",
    "tfidf = tfidf_vectorizer.fit_transform(clean_lyrics)"
   ]
  },
  {
   "cell_type": "code",
   "execution_count": 28,
   "metadata": {},
   "outputs": [],
   "source": [
    "# Convert tfidf to numpy array\n",
    "tfidf = tfidf.toarray()\n",
    "\n",
    "# Remove head and tail words\n",
    "X = np.delete(tfidf, head_words, axis  = 1)"
   ]
  },
  {
   "cell_type": "code",
   "execution_count": 37,
   "metadata": {},
   "outputs": [],
   "source": [
    "y = df.loc[:10000,'genre']"
   ]
  },
  {
   "cell_type": "code",
   "execution_count": 33,
   "metadata": {},
   "outputs": [
    {
     "name": "stderr",
     "output_type": "stream",
     "text": [
      "c:\\users\\rohan bapat\\appdata\\local\\continuum\\anaconda3\\lib\\site-packages\\sklearn\\cross_validation.py:44: DeprecationWarning: This module was deprecated in version 0.18 in favor of the model_selection module into which all the refactored classes and functions are moved. Also note that the interface of the new CV iterators are different from that of this module. This module will be removed in 0.20.\n",
      "  \"This module will be removed in 0.20.\", DeprecationWarning)\n"
     ]
    }
   ],
   "source": [
    "from sklearn.naive_bayes import MultinomialNB\n",
    "from sklearn.model_selection import KFold, cross_val_score"
   ]
  },
  {
   "cell_type": "code",
   "execution_count": 34,
   "metadata": {},
   "outputs": [],
   "source": [
    "k_fold = KFold(len(y), n_folds=10, shuffle=True, random_state=0)\n",
    "clf = MultinomialNB()"
   ]
  },
  {
   "cell_type": "code",
   "execution_count": 38,
   "metadata": {},
   "outputs": [
    {
     "name": "stdout",
     "output_type": "stream",
     "text": [
      "[0.483 0.496 0.468 0.482 0.469 0.487 0.489 0.472 0.482 0.483]\n"
     ]
    }
   ],
   "source": [
    "print(cross_val_score(clf, X, y, cv=k_fold, n_jobs=1))"
   ]
  },
  {
   "cell_type": "code",
   "execution_count": 51,
   "metadata": {},
   "outputs": [
    {
     "name": "stdout",
     "output_type": "stream",
     "text": [
      "0.47743108149045743\n"
     ]
    }
   ],
   "source": [
    "from sklearn.model_selection import train_test_split\n",
    "\n",
    "X_train, X_test, y_train, y_test = train_test_split(X, y, test_size=0.33, random_state=42)\n",
    "clf = MultinomialNB()\n",
    "clf.fit(X_train, y_train)\n",
    "preds = clf.predict(X_test)\n",
    "accuracy = sum(np.equal(preds,np.array(y_test)))/len(preds)\n",
    "print(accuracy)"
   ]
  },
  {
   "cell_type": "markdown",
   "metadata": {},
   "source": [
    "Use nltk naive bayes classifier"
   ]
  },
  {
   "cell_type": "code",
   "execution_count": null,
   "metadata": {},
   "outputs": [],
   "source": [
    "nltk_clf = nltk.NaiveBayesClassifier.train(X_train)"
   ]
  },
  {
   "cell_type": "code",
   "execution_count": null,
   "metadata": {},
   "outputs": [],
   "source": [
    "nltk_clf.show_most_informative_features(15)"
   ]
  },
  {
   "cell_type": "code",
   "execution_count": null,
   "metadata": {},
   "outputs": [],
   "source": [
    "print(nltk_clf.classify(features_all('great')))\n",
    "print(nltk_clf.classify(features_all('bad')))\n",
    "print('Accuracy for Naive Bayes: ',nltk.classify.accuracy(nltk_clf, X_test))"
   ]
  },
  {
   "cell_type": "markdown",
   "metadata": {},
   "source": [
    "Feature selection using chi squared test"
   ]
  },
  {
   "cell_type": "code",
   "execution_count": null,
   "metadata": {},
   "outputs": [],
   "source": [
    "from sklearn.feature_selection import chi2"
   ]
  },
  {
   "cell_type": "code",
   "execution_count": null,
   "metadata": {},
   "outputs": [],
   "source": [
    "chi2(X, y)"
   ]
  }
 ],
 "metadata": {
  "kernelspec": {
   "display_name": "Python 3",
   "language": "python",
   "name": "python3"
  },
  "language_info": {
   "codemirror_mode": {
    "name": "ipython",
    "version": 3
   },
   "file_extension": ".py",
   "mimetype": "text/x-python",
   "name": "python",
   "nbconvert_exporter": "python",
   "pygments_lexer": "ipython3",
   "version": "3.6.1"
  }
 },
 "nbformat": 4,
 "nbformat_minor": 2
}
